{
 "cells": [
  {
   "cell_type": "code",
   "execution_count": 82,
   "id": "2d50aaa1",
   "metadata": {},
   "outputs": [],
   "source": [
    "import os\n",
    "import pandas as pd\n",
    "import glob\n",
    "import dill as dill\n",
    "import json\n",
    "from datetime import datetime\n",
    "\n",
    "path = os.environ.get('PROJECT_PATH', '..')\n",
    "\n",
    "test_dir = f'{path}/data/test'\n",
    "file_list = os.listdir(test_dir)\n",
    "json_files = [file for file in file_list if os.path.splitext(file)[1] == '.json']\n",
    "\n",
    "model_dir = f'{path}/data/models'\n",
    "model_files = glob.glob(model_dir + '/cars_pipe_*')\n",
    "latest_file = max(model_files, key=os.path.getctime)\n",
    "\n",
    "\n",
    "\n",
    "with open(latest_file, 'rb') as file:\n",
    "    model = dill.load(file)\n",
    "\n",
    "\n",
    "predicts = pd.DataFrame()\n",
    "for json_file in json_files:\n",
    "    path_to_file = os.path.join(test_dir, json_file)\n",
    "    with open(path_to_file) as f:\n",
    "        df = pd.DataFrame([json.load(f)])\n",
    "    df['pred'] = model.predict(df)\n",
    "    predicts = pd.concat([predicts, df.loc[:,['id','pred']]])"
   ]
  },
  {
   "cell_type": "code",
   "execution_count": 83,
   "id": "eb59b7e9",
   "metadata": {},
   "outputs": [
    {
     "data": {
      "text/html": [
       "<div>\n",
       "<style scoped>\n",
       "    .dataframe tbody tr th:only-of-type {\n",
       "        vertical-align: middle;\n",
       "    }\n",
       "\n",
       "    .dataframe tbody tr th {\n",
       "        vertical-align: top;\n",
       "    }\n",
       "\n",
       "    .dataframe thead th {\n",
       "        text-align: right;\n",
       "    }\n",
       "</style>\n",
       "<table border=\"1\" class=\"dataframe\">\n",
       "  <thead>\n",
       "    <tr style=\"text-align: right;\">\n",
       "      <th></th>\n",
       "      <th>id</th>\n",
       "      <th>pred</th>\n",
       "    </tr>\n",
       "  </thead>\n",
       "  <tbody>\n",
       "    <tr>\n",
       "      <th>0</th>\n",
       "      <td>7310993818</td>\n",
       "      <td>low</td>\n",
       "    </tr>\n",
       "    <tr>\n",
       "      <th>0</th>\n",
       "      <td>7313922964</td>\n",
       "      <td>high</td>\n",
       "    </tr>\n",
       "    <tr>\n",
       "      <th>0</th>\n",
       "      <td>7315173150</td>\n",
       "      <td>low</td>\n",
       "    </tr>\n",
       "    <tr>\n",
       "      <th>0</th>\n",
       "      <td>7316152972</td>\n",
       "      <td>medium</td>\n",
       "    </tr>\n",
       "    <tr>\n",
       "      <th>0</th>\n",
       "      <td>7316509996</td>\n",
       "      <td>high</td>\n",
       "    </tr>\n",
       "  </tbody>\n",
       "</table>\n",
       "</div>"
      ],
      "text/plain": [
       "           id    pred\n",
       "0  7310993818     low\n",
       "0  7313922964    high\n",
       "0  7315173150     low\n",
       "0  7316152972  medium\n",
       "0  7316509996    high"
      ]
     },
     "execution_count": 83,
     "metadata": {},
     "output_type": "execute_result"
    }
   ],
   "source": [
    "predicts"
   ]
  },
  {
   "cell_type": "code",
   "execution_count": 73,
   "id": "35b68747",
   "metadata": {},
   "outputs": [
    {
     "data": {
      "text/html": [
       "<div>\n",
       "<style scoped>\n",
       "    .dataframe tbody tr th:only-of-type {\n",
       "        vertical-align: middle;\n",
       "    }\n",
       "\n",
       "    .dataframe tbody tr th {\n",
       "        vertical-align: top;\n",
       "    }\n",
       "\n",
       "    .dataframe thead th {\n",
       "        text-align: right;\n",
       "    }\n",
       "</style>\n",
       "<table border=\"1\" class=\"dataframe\">\n",
       "  <thead>\n",
       "    <tr style=\"text-align: right;\">\n",
       "      <th></th>\n",
       "      <th>description</th>\n",
       "      <th>fuel</th>\n",
       "      <th>id</th>\n",
       "      <th>image_url</th>\n",
       "      <th>lat</th>\n",
       "      <th>long</th>\n",
       "      <th>manufacturer</th>\n",
       "      <th>model</th>\n",
       "      <th>odometer</th>\n",
       "      <th>posting_date</th>\n",
       "      <th>price</th>\n",
       "      <th>region</th>\n",
       "      <th>region_url</th>\n",
       "      <th>state</th>\n",
       "      <th>title_status</th>\n",
       "      <th>transmission</th>\n",
       "      <th>url</th>\n",
       "      <th>year</th>\n",
       "      <th>pred</th>\n",
       "    </tr>\n",
       "  </thead>\n",
       "  <tbody>\n",
       "    <tr>\n",
       "      <th>0</th>\n",
       "      <td>Excellent condition with Leather Stone interio...</td>\n",
       "      <td>gas</td>\n",
       "      <td>7316509996</td>\n",
       "      <td>https://images.craigslist.org/00808_i0faaALGPQ...</td>\n",
       "      <td>39.1618</td>\n",
       "      <td>-76.6297</td>\n",
       "      <td>ford</td>\n",
       "      <td>mustang</td>\n",
       "      <td>53800</td>\n",
       "      <td>2021-05-03T19:49:21-0400</td>\n",
       "      <td>24500</td>\n",
       "      <td>baltimore</td>\n",
       "      <td>https://baltimore.craigslist.org</td>\n",
       "      <td>md</td>\n",
       "      <td>clean</td>\n",
       "      <td>manual</td>\n",
       "      <td>https://baltimore.craigslist.org/cto/d/glen-bu...</td>\n",
       "      <td>2013</td>\n",
       "      <td>high</td>\n",
       "    </tr>\n",
       "  </tbody>\n",
       "</table>\n",
       "</div>"
      ],
      "text/plain": [
       "                                         description fuel          id  \\\n",
       "0  Excellent condition with Leather Stone interio...  gas  7316509996   \n",
       "\n",
       "                                           image_url      lat     long  \\\n",
       "0  https://images.craigslist.org/00808_i0faaALGPQ...  39.1618 -76.6297   \n",
       "\n",
       "  manufacturer    model  odometer              posting_date  price     region  \\\n",
       "0         ford  mustang     53800  2021-05-03T19:49:21-0400  24500  baltimore   \n",
       "\n",
       "                         region_url state title_status transmission  \\\n",
       "0  https://baltimore.craigslist.org    md        clean       manual   \n",
       "\n",
       "                                                 url  year  pred  \n",
       "0  https://baltimore.craigslist.org/cto/d/glen-bu...  2013  high  "
      ]
     },
     "execution_count": 73,
     "metadata": {},
     "output_type": "execute_result"
    }
   ],
   "source": [
    "df"
   ]
  },
  {
   "cell_type": "code",
   "execution_count": 6,
   "id": "8eb3a258",
   "metadata": {},
   "outputs": [],
   "source": []
  },
  {
   "cell_type": "code",
   "execution_count": 61,
   "id": "4c0fdde1",
   "metadata": {},
   "outputs": [],
   "source": []
  },
  {
   "cell_type": "code",
   "execution_count": 62,
   "id": "e1842404",
   "metadata": {},
   "outputs": [],
   "source": []
  },
  {
   "cell_type": "code",
   "execution_count": null,
   "id": "10bf96f7",
   "metadata": {},
   "outputs": [],
   "source": []
  },
  {
   "cell_type": "code",
   "execution_count": 36,
   "id": "1c8b1005",
   "metadata": {},
   "outputs": [],
   "source": []
  },
  {
   "cell_type": "code",
   "execution_count": null,
   "id": "eb54ebee",
   "metadata": {},
   "outputs": [],
   "source": [
    "\n"
   ]
  },
  {
   "cell_type": "code",
   "execution_count": 47,
   "id": "1fc4050f",
   "metadata": {},
   "outputs": [],
   "source": []
  },
  {
   "cell_type": "code",
   "execution_count": null,
   "id": "c32d80ee",
   "metadata": {},
   "outputs": [],
   "source": []
  },
  {
   "cell_type": "code",
   "execution_count": null,
   "id": "5b3e281a",
   "metadata": {},
   "outputs": [],
   "source": []
  }
 ],
 "metadata": {
  "kernelspec": {
   "display_name": "Python 3 (ipykernel)",
   "language": "python",
   "name": "python3"
  },
  "language_info": {
   "codemirror_mode": {
    "name": "ipython",
    "version": 3
   },
   "file_extension": ".py",
   "mimetype": "text/x-python",
   "name": "python",
   "nbconvert_exporter": "python",
   "pygments_lexer": "ipython3",
   "version": "3.9.13"
  }
 },
 "nbformat": 4,
 "nbformat_minor": 5
}
